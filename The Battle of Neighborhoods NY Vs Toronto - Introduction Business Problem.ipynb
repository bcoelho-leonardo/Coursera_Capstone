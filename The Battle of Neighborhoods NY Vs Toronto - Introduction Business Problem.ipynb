{
 "cells": [
  {
   "cell_type": "markdown",
   "metadata": {},
   "source": [
    "# WEEK 1"
   ]
  },
  {
   "cell_type": "markdown",
   "metadata": {},
   "source": [
    "# The Battle of Neighborhoods NY Vs Toronto - Introduction Business Problem"
   ]
  },
  {
   "cell_type": "markdown",
   "metadata": {},
   "source": [
    "## A description of the problem and a discussion of the background"
   ]
  },
  {
   "cell_type": "markdown",
   "metadata": {},
   "source": [
    "The background of this project if the importance of geographical data in the solution of Business problems in the open market.\n",
    "\n",
    "In particular, stakeholders would more likely benefit from location data analysis to evaluate the risk of investing in new businesses, thus providing support to their decisions.\n",
    "\n",
    "The justification of the proposed Business Problem is here adressed in detail.\n",
    "\n",
    "The main idea behind this project is the following: \n",
    "different big cities (or Capitals) around the world could be compared from diverse perspectives.\n",
    "For exemple: is there a group of Neighborhoods in NY city that could somehow be considered as similar to another group of Neighborhoods in Toronto?\n",
    "Further developping the idea: would there be a way of clustering different cities' Neighborhoods based on their Venues?\n",
    "Considering an affirmative response to the raised up questions, it would be very interesting to compare the Venues of clustered Neighborhoods from different cities. This could lead not only to the identification of business trends but also of market gaps in a given area of interest.\n",
    "Indeed, for a group of stakeholders doubting about which business to implement in Woodhaven (NY), the access to such Data-oriented information from a similar Neighborhood (of a comparable city) might certainly help in the decision making process.\n",
    "Similarly, if a stakeholder wants to open the first Ice Cream Shop in a Toronto Neighborhood but cannot decide (for example) between Woburn or York Mills West, the fact that a given NY Neighborhood well known for Ice Cream Shops is similar to Woburn, might be the tyebreaking. \n",
    "Furthermore, considering a Neighborhood in Toronto as similar to one in NY, but with clear dissimilarities in terms of frequency of African Restaurants, this observation potentially points out to a market growth direction.\n",
    "\n",
    "\n",
    "Therefore, based on a geo-location approach, the purpose of this project would be to contribute with the process of choosing locations for open businesses.\n",
    "It is believed that this methodology could unravel unseen market opportunities at given locations, and contribute with the growth of markets already already establlished in certain Neighborhoods."
   ]
  },
  {
   "cell_type": "markdown",
   "metadata": {},
   "source": [
    "The first step for the execution of this project is the collection of the geo-location data. Here, the Foursquare API will be used for exploring Neighborhoods from Toronto and NY city.\n",
    "Then, as described in the \"Data\" section from \"WEEK 1 - The Battle of Neighborhoods NY Vs Toronto\", a Merged Toronto-NY Pandas DataFrame comprising Neighborhoods and Venues will be built.\n",
    "Finally, in WEEK 2, the Toronto/NY Neighborhoods will be clustered together based on their corresponding Venue categories. "
   ]
  }
 ],
 "metadata": {
  "kernelspec": {
   "display_name": "Python 3",
   "language": "python",
   "name": "python3"
  },
  "language_info": {
   "codemirror_mode": {
    "name": "ipython",
    "version": 3
   },
   "file_extension": ".py",
   "mimetype": "text/x-python",
   "name": "python",
   "nbconvert_exporter": "python",
   "pygments_lexer": "ipython3",
   "version": "3.8.5"
  }
 },
 "nbformat": 4,
 "nbformat_minor": 4
}
